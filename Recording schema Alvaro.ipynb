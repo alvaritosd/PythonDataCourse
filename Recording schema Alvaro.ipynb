{
 "cells": [
  {
   "cell_type": "code",
   "execution_count": 1,
   "metadata": {},
   "outputs": [],
   "source": [
    "import numpy as np\n",
    "import matplotlib.pyplot as plt\n",
    "import datajoint as dj"
   ]
  },
  {
   "cell_type": "code",
   "execution_count": 2,
   "metadata": {},
   "outputs": [],
   "source": [
    "# datajoint configuration\n",
    "dj.config['database.host'] = '127.0.0.1'\n",
    "dj.config['database.user'] = 'root'\n",
    "dj.config['database.password'] = 'simple'\n",
    "# we will go into this attribute later\n",
    "dj.config['fetch_format'] = 'frame'"
   ]
  },
  {
   "cell_type": "code",
   "execution_count": 3,
   "metadata": {},
   "outputs": [
    {
     "name": "stdout",
     "output_type": "stream",
     "text": [
      "Connecting root@127.0.0.1:3306\n"
     ]
    },
    {
     "data": {
      "text/plain": [
       "DataJoint connection (connected) root@127.0.0.1:3306"
      ]
     },
     "execution_count": 3,
     "metadata": {},
     "output_type": "execute_result"
    }
   ],
   "source": [
    "connection = dj.conn()\n",
    "connection"
   ]
  },
  {
   "cell_type": "code",
   "execution_count": 4,
   "metadata": {},
   "outputs": [],
   "source": [
    "dj.config.save_local()"
   ]
  },
  {
   "cell_type": "code",
   "execution_count": 5,
   "metadata": {},
   "outputs": [],
   "source": [
    "dj.config.save_global()"
   ]
  },
  {
   "cell_type": "code",
   "execution_count": 6,
   "metadata": {},
   "outputs": [
    {
     "name": "stdout",
     "output_type": "stream",
     "text": [
      "Password updated.\n",
      "Update local setting? [yes, no]: yes\n",
      "Saved settings in dj_local_conf.json\n"
     ]
    }
   ],
   "source": [
    "dj.set_password('simple')"
   ]
  },
  {
   "cell_type": "code",
   "execution_count": 7,
   "metadata": {},
   "outputs": [],
   "source": [
    "recording_schema = dj.schema('recording_schema_alvaro')"
   ]
  },
  {
   "cell_type": "code",
   "execution_count": null,
   "metadata": {},
   "outputs": [],
   "source": [
    "@recording_schema\n",
    "class RecordingInfoAlvaro(dj.Manual):\n",
    "    definition=\"\"\"\n",
    "    # recording info alvaro\n",
    "    recording_id : int # fly number that day, not subject_id\n",
    "    ---\n",
    "    experimenter = 'ASD' : varchar(3) # set to ASD by default but can be other experimenter \n",
    "    recording_date : int # yymmdd\n",
    "    subject_id: varchar(20) # fly\n",
    "    cell_number : int # cell recorded and corresponding to recording_id\n",
    "    subrecording_id : int # correspond to each different recording\n",
    "    genotype_id : int\n",
    "    stim_path : varchar(2000) # path to location of the stimulus file\n",
    "    recording_path : varchar(2000) # path to location of recording trace\n",
    "    cell_type: varchar(200) \n",
    "    age : float # age of fly in days\n",
    "    fly_sex = 'U': enum('F', 'M', 'U')  # sex of fly\n",
    "    quality : varchar (200)\n",
    "    internal_solution : varchar (200)\n",
    "    bath_solution : varchar (200)\n",
    "    brain_location : varchar (200)\n",
    "    comments = null : varchar(4000)\n",
    "    \"\"\"\n",
    "    \n",
    "    \n",
    "@recording_schema\n",
    "class StimulusType(dj.Lookup):\n",
    "    definition=\"\"\"\n",
    "    # type of stimuli\n",
    "    ->RecordingInfoAlvaro\n",
    "    ---\n",
    "    stimulus_type: varchar(50) :('FFF', 'SRF', 'Bars')\n",
    "    wavelength:\n",
    "    intensity_list:\n",
    "    background:\n",
    "    \n",
    "    \"\"\"\n",
    "\n",
    "@recording_schema\n",
    "class Traces(dj.Imported):\n",
    "    definition=\"\"\"\n",
    "    # Recording traces \n",
    "    ->subrecording_id\n",
    "    ---\n",
    "    raw_trace: longblob\n",
    "    photodiode_trace: longblob\n",
    "    psths: longblob\n",
    "    stimulus_timecourse: longblog \n",
    "    Stimulus: ‘FFF’ (extracted from metadata)\n",
    "    \"\"\"\n",
    "        \n",
    "@recording_schema\n",
    "class Traces_preprocessing(dj.Manual):\n",
    "    definition=\"\"\"\n",
    "    # Preprocessing criteria for traces\n",
    "    ->Traces\n",
    "    ---\n",
    "    filter: \n",
    "    aligned_events:\n",
    "    wavelength:\n",
    "    intensity:\n",
    "    \"\"\"\n",
    "\n",
    "@recording_schema\n",
    "class Processed(dj.Computed):\n",
    "    definition=\"\"\"\n",
    "    Store processed data\n",
    "    \"\"\"\n",
    "\n",
    "\n",
    "\n",
    "@recording_schema\n",
    "class Analyzed(dj.Computed):\n",
    "    definition=\"\"\"\n",
    "    #Store analyzed data\n",
    "    \"\"\"\n",
    "\n",
    "\n",
    "\n",
    "\n",
    "\n",
    "\n",
    "\n",
    "\n",
    "\n",
    "\n",
    "    \n",
    "    \n",
    "        \n",
    "@recording_schema\n",
    "class MembraneProperties(dj.Computed):\n",
    "    definition = \"\"\"\n",
    "    ->RecordingInfo\n",
    "    ---\n",
    "    \n",
    "    \"\"\"\n",
    "@recording_schema\n",
    "class FFFAlignmentParams(dj.Computed):\n",
    "    definition = \"\"\"\n",
    "    ->RecordingInfo\n",
    "    ---\n",
    "    alignment_method='number':varchar(255)\n",
    "    sigma=null: double\n",
    "    number=null: varchar(255)\n",
    "    \"\"\"\n",
    "\n",
    "@recording_schema\n",
    "class FFFData(dj.Computed,dj.BaseMixin):\n",
    "    # This table stores Full Field Flash (FFF) response data\n",
    "\n",
    "    definition = \"\"\"\n",
    "    ->RecordingInfo\n",
    "    ---\n",
    "    on_repeats=null: longblob # this is a numpy array of response to ON stim\n",
    "    off_repeats=null: longblob # this is a numpy array of response to OFF stim\n",
    "    \"\"\"\n",
    "\n",
    "@recording_schema\n",
    "class SRFData (dj.Computed,??)\n",
    "\n",
    "@recording_schema\n",
    "class BRFData (dj.Computed,??)\n",
    "\n",
    "\n"
   ]
  }
 ],
 "metadata": {
  "kernelspec": {
   "display_name": "Python 3",
   "language": "python",
   "name": "python3"
  },
  "language_info": {
   "codemirror_mode": {
    "name": "ipython",
    "version": 3
   },
   "file_extension": ".py",
   "mimetype": "text/x-python",
   "name": "python",
   "nbconvert_exporter": "python",
   "pygments_lexer": "ipython3",
   "version": "3.7.6"
  }
 },
 "nbformat": 4,
 "nbformat_minor": 4
}
