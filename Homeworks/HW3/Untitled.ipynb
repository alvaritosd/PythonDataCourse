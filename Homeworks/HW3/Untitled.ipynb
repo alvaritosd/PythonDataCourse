{
 "cells": [
  {
   "cell_type": "code",
   "execution_count": 1,
   "metadata": {},
   "outputs": [],
   "source": [
    "def fit(x__data, y_data):\n",
    "    \n",
    "    x_mean=x_data.mean()\n",
    "    y_data_mean=y_data.mean()\n",
    "    \n",
    "    numarator=np.sum((x_data-x_mean)*(y_data-y_data_mean))\n",
    "    denomenator=np.sum((x_data-x_mean)**2)\n",
    "    \n",
    "    m_opt=numerator/denomenator\n",
    "    \n",
    "    b_opt=y_data_mean-m_opt*x_mean\n",
    "    \n",
    "    return m_opt, b_opt"
   ]
  },
  {
   "cell_type": "code",
   "execution_count": 3,
   "metadata": {},
   "outputs": [],
   "source": [
    "class LinearModel():\n",
    "    \n",
    "    def __init__(self,m,b):\n",
    "        self.m = m\n",
    "        self.b = b\n",
    "        \n",
    "    def output(self,x):\n",
    "        \n",
    "        y = self.m*x + self.b\n",
    "        \n",
    "        return y\n",
    "    \n",
    "    def print_equation(self):\n",
    "         print('y = {}x +{}'.format(self.m, self.b))"
   ]
  },
  {
   "cell_type": "code",
   "execution_count": null,
   "metadata": {},
   "outputs": [],
   "source": [
    "class LinearModelND(LinearModel):\n",
    "    def output"
   ]
  }
 ],
 "metadata": {
  "kernelspec": {
   "display_name": "Python 3",
   "language": "python",
   "name": "python3"
  },
  "language_info": {
   "codemirror_mode": {
    "name": "ipython",
    "version": 3
   },
   "file_extension": ".py",
   "mimetype": "text/x-python",
   "name": "python",
   "nbconvert_exporter": "python",
   "pygments_lexer": "ipython3",
   "version": "3.7.1"
  }
 },
 "nbformat": 4,
 "nbformat_minor": 2
}
