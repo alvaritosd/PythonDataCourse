{
 "cells": [
  {
   "cell_type": "markdown",
   "metadata": {},
   "source": [
    "# HW4 Part 1 - Review of Python Classes\n",
    "\n",
    "April 21, 2020\n",
    "\n",
    "The following is meant to be a brief review of classes in Python. If you feel comfortable with building and manipulating classes in Python, feel free to skim this part"
   ]
  },
  {
   "cell_type": "code",
   "execution_count": 1,
   "metadata": {},
   "outputs": [],
   "source": [
    "import numpy as np\n",
    "import matplotlib.pyplot as plt\n",
    "import pandas as pd"
   ]
  },
  {
   "cell_type": "markdown",
   "metadata": {},
   "source": [
    "## 1a) Create a class \"`Dog`\" with an `__init__` function that takes in the variable `name`"
   ]
  },
  {
   "cell_type": "code",
   "execution_count": 2,
   "metadata": {},
   "outputs": [],
   "source": [
    "class Dog:\n",
    "\n",
    "    def __init__(self, name):\n",
    "        self.name=name\n",
    "        # assign 'name' to self here as a data attribute"
   ]
  },
  {
   "cell_type": "code",
   "execution_count": 3,
   "metadata": {},
   "outputs": [],
   "source": [
    "mydog = Dog('Jojo')"
   ]
  },
  {
   "cell_type": "code",
   "execution_count": 4,
   "metadata": {},
   "outputs": [
    {
     "data": {
      "text/plain": [
       "'Jojo'"
      ]
     },
     "execution_count": 4,
     "metadata": {},
     "output_type": "execute_result"
    }
   ],
   "source": [
    "mydog.name"
   ]
  },
  {
   "cell_type": "markdown",
   "metadata": {},
   "source": [
    "# 1b) Add a method to this class `add_trick` that takes in a variable `trick`\n",
    "Keep in mind that a Dog might learn many tricks - you might keep track of the tricks it learns in a list"
   ]
  },
  {
   "cell_type": "code",
   "execution_count": 5,
   "metadata": {},
   "outputs": [],
   "source": [
    "class Dog:\n",
    "        \n",
    "    def __init__(self, name):\n",
    "        self.name=name\n",
    "        self.tricks=[]\n",
    "        # your code here\n",
    "    \n",
    "    def add_trick(self, trick): # this is a method attribute\n",
    "        # your code here\n",
    "        self.tricks.append(trick)\n"
   ]
  },
  {
   "cell_type": "code",
   "execution_count": 6,
   "metadata": {},
   "outputs": [
    {
     "data": {
      "text/plain": [
       "['roll over', 'play dead', 'flippy flip']"
      ]
     },
     "execution_count": 6,
     "metadata": {},
     "output_type": "execute_result"
    }
   ],
   "source": [
    "# test your code\n",
    "mydog = Dog('Jojo')\n",
    "mydog.add_trick('roll over')\n",
    "mydog.add_trick('play dead')\n",
    "mydog.add_trick('flippy flip')\n",
    "\n",
    "\n",
    "# print the tricks here\n",
    "mydog.tricks### complete here"
   ]
  },
  {
   "cell_type": "markdown",
   "metadata": {},
   "source": [
    "## 1c) Modify the class so that it keeps track of the dog's age, gender and species\n",
    "Would these be better as a data attributes or as a method attributes?"
   ]
  },
  {
   "cell_type": "code",
   "execution_count": 7,
   "metadata": {},
   "outputs": [
    {
     "data": {
      "text/plain": [
       "['roll over', 'play dead', 'flippy flip']"
      ]
     },
     "execution_count": 7,
     "metadata": {},
     "output_type": "execute_result"
    }
   ],
   "source": [
    "# your code here\n",
    "class Dog:\n",
    "    \n",
    "    def __init__(self, name, age, gender, species):\n",
    "        self.name=name\n",
    "        self.age=age\n",
    "        self.gender=gender\n",
    "        self.species=species\n",
    "        self.tricks=[]\n",
    "        # your code here\n",
    "    \n",
    "    def add_trick(self, trick): # this is a method attribute\n",
    "        # your code here\n",
    "        self.tricks.append(trick)\n",
    "\n",
    "mydog = Dog('Jojo',5, 'male', 'cocker sp.')\n",
    "mydog.add_trick('roll over')\n",
    "mydog.add_trick('play dead')\n",
    "mydog.add_trick('flippy flip')\n",
    "\n",
    "mydog.tricks"
   ]
  },
  {
   "cell_type": "markdown",
   "metadata": {},
   "source": [
    "## 1d) Create 3 dogs with various characteristics, and assign them different tricks"
   ]
  },
  {
   "cell_type": "code",
   "execution_count": 8,
   "metadata": {},
   "outputs": [],
   "source": [
    "# your code here\n",
    "Isi=Dog('Isi',16,'female','mutt')\n",
    "Isi.add_trick('paw')\n",
    "\n",
    "Lucas=Dog('Lucas',8,'male','mutt')\n",
    "Lucas.add_trick('scape')\n",
    "\n",
    "Tosca=Dog('Tosca',12,'female','german sh.')\n",
    "Tosca.add_trick('sit')\n",
    "\n"
   ]
  },
  {
   "cell_type": "markdown",
   "metadata": {},
   "source": [
    "## 1e) Create a method/function `print_summary` for the Dog class that prints all the relevant data and tricks"
   ]
  },
  {
   "cell_type": "code",
   "execution_count": 42,
   "metadata": {},
   "outputs": [
    {
     "name": "stdout",
     "output_type": "stream",
     "text": [
      "Tosca 12 female german sh. ['sit']\n"
     ]
    }
   ],
   "source": [
    "# your code here\n",
    "class Dog:\n",
    "    \n",
    "    def __init__(self, name, age, gender, species):\n",
    "        self.name=name\n",
    "        self.age=age\n",
    "        self.gender=gender\n",
    "        self.species=species\n",
    "        self.tricks=[]\n",
    "        # your code here\n",
    "    \n",
    "    def add_trick(self, trick): # this is a method attribute\n",
    "        # your code here\n",
    "        self.tricks.append(trick)\n",
    "\n",
    "    def print_summary(self):\n",
    "        print(self.name, self.age, self.gender, self.species, self.tricks)\n",
    "\n",
    "Tosca.print_summary()"
   ]
  },
  {
   "cell_type": "code",
   "execution_count": 49,
   "metadata": {},
   "outputs": [
    {
     "name": "stdout",
     "output_type": "stream",
     "text": [
      "Isi 16 female mutt ['paw']\n",
      "Lucas 8 male mutt ['scape']\n",
      "Tosca 12 female german sh. ['sit']\n"
     ]
    }
   ],
   "source": [
    "# create 3 dogs again with your new/modified class and \n",
    "\n",
    "class Dog:\n",
    "    \n",
    "    def __init__(self, name, age, gender, species):\n",
    "        self.name=name\n",
    "        self.age=age\n",
    "        self.gender=gender\n",
    "        self.species=species\n",
    "        self.tricks=[]\n",
    "        # your code here\n",
    "    \n",
    "    def add_trick(self, trick): # this is a method attribute\n",
    "        # your code here\n",
    "        self.tricks.append(trick)\n",
    "\n",
    "    def print_summary(self):\n",
    "        print(self.name, self.age, self.gender, self.species, self.tricks)\n",
    "\n",
    "Isi=Dog('Isi',16,'female','mutt')\n",
    "Lucas=Dog('Lucas',8,'male','mutt')\n",
    "Tosca=Dog('Tosca',12,'female','german sh.')\n",
    "\n",
    "Isi.add_trick('paw')\n",
    "Lucas.add_trick('scape')\n",
    "Tosca.add_trick('sit')\n",
    "\n",
    "dogs=[Isi, Lucas, Tosca]\n",
    "        \n",
    "for d in dogs:\n",
    "    d.print_summary()\n",
    "\n"
   ]
  },
  {
   "cell_type": "markdown",
   "metadata": {},
   "source": [
    "## 1f) Finally, create a function/method that returns a pandas dataframe of the dog's name, age, gender species and tricks"
   ]
  },
  {
   "cell_type": "markdown",
   "metadata": {},
   "source": [
    "This code should run. What do you notice about having multiple tricks?"
   ]
  },
  {
   "cell_type": "code",
   "execution_count": 64,
   "metadata": {},
   "outputs": [
    {
     "ename": "AttributeError",
     "evalue": "'list' object has no attribute 'return_df'",
     "output_type": "error",
     "traceback": [
      "\u001b[0;31m---------------------------------------------------------------------------\u001b[0m",
      "\u001b[0;31mAttributeError\u001b[0m                            Traceback (most recent call last)",
      "\u001b[0;32m<ipython-input-64-09703eedd8ea>\u001b[0m in \u001b[0;36m<module>\u001b[0;34m\u001b[0m\n\u001b[1;32m     32\u001b[0m \u001b[0mdogs\u001b[0m\u001b[0;34m=\u001b[0m\u001b[0;34m[\u001b[0m\u001b[0mjojo\u001b[0m\u001b[0;34m,\u001b[0m \u001b[0mIsi\u001b[0m\u001b[0;34m,\u001b[0m \u001b[0mLucas\u001b[0m\u001b[0;34m,\u001b[0m \u001b[0mTosca\u001b[0m\u001b[0;34m]\u001b[0m\u001b[0;34m\u001b[0m\u001b[0;34m\u001b[0m\u001b[0m\n\u001b[1;32m     33\u001b[0m \u001b[0;34m\u001b[0m\u001b[0m\n\u001b[0;32m---> 34\u001b[0;31m \u001b[0mdf\u001b[0m \u001b[0;34m=\u001b[0m \u001b[0mdogs\u001b[0m\u001b[0;34m.\u001b[0m\u001b[0mreturn_df\u001b[0m\u001b[0;34m(\u001b[0m\u001b[0;34m)\u001b[0m\u001b[0;34m\u001b[0m\u001b[0;34m\u001b[0m\u001b[0m\n\u001b[0m\u001b[1;32m     35\u001b[0m \u001b[0;34m\u001b[0m\u001b[0m\n\u001b[1;32m     36\u001b[0m \u001b[0mdf\u001b[0m\u001b[0;34m.\u001b[0m\u001b[0mhead\u001b[0m\u001b[0;34m(\u001b[0m\u001b[0;34m)\u001b[0m\u001b[0;34m\u001b[0m\u001b[0;34m\u001b[0m\u001b[0m\n",
      "\u001b[0;31mAttributeError\u001b[0m: 'list' object has no attribute 'return_df'"
     ]
    }
   ],
   "source": [
    "class Dog:\n",
    "    \n",
    "    def __init__(self, name, age, gender, species):\n",
    "        self.name=name\n",
    "        self.age=age\n",
    "        self.gender=gender\n",
    "        self.species=species\n",
    "        self.tricks=[]\n",
    "        # your code here\n",
    "    \n",
    "    def add_trick(self, trick): # this is a method attribute\n",
    "        # your code here\n",
    "        self.tricks.append(trick)\n",
    "\n",
    "    def print_summary(self):\n",
    "        print(self.name, self.age, self.gender, self.species, self.tricks)\n",
    "        \n",
    "    def return_df(self):\n",
    "        pd.DataFrame(self.name, self.age, self.gender, self.species, self.tricks)\n",
    "    \n",
    "jojo = Dog('Jojo',12,'M','collie')\n",
    "Isi=Dog('Isi',16,'female','mutt')\n",
    "Lucas=Dog('Lucas',8,'male','mutt')\n",
    "Tosca=Dog('Tosca',12,'female','german sh.')\n",
    "\n",
    "jojo.add_trick('roll over')\n",
    "jojo.add_trick('flippy flip')\n",
    "Isi.add_trick('paw')\n",
    "Lucas.add_trick('scape')\n",
    "Tosca.add_trick('sit')\n",
    "\n",
    "dogs=[jojo, Isi, Lucas, Tosca]\n",
    "\n",
    "df = dogs.return_df()\n",
    "\n",
    "df.head()"
   ]
  },
  {
   "cell_type": "code",
   "execution_count": null,
   "metadata": {},
   "outputs": [],
   "source": []
  }
 ],
 "metadata": {
  "kernelspec": {
   "display_name": "Python 3",
   "language": "python",
   "name": "python3"
  },
  "language_info": {
   "codemirror_mode": {
    "name": "ipython",
    "version": 3
   },
   "file_extension": ".py",
   "mimetype": "text/x-python",
   "name": "python",
   "nbconvert_exporter": "python",
   "pygments_lexer": "ipython3",
   "version": "3.7.1"
  }
 },
 "nbformat": 4,
 "nbformat_minor": 2
}
